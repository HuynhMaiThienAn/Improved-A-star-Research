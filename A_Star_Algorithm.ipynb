{
 "cells": [
  {
   "cell_type": "code",
   "execution_count": 7,
   "metadata": {},
   "outputs": [
    {
     "name": "stdout",
     "output_type": "stream",
     "text": [
      "hello\n"
     ]
    }
   ],
   "source": [
    "# Import libraries\n",
    "import matplotlib.pyplot as plt\n",
    "\n",
    "\n"
   ]
  },
  {
   "cell_type": "code",
   "execution_count": 8,
   "metadata": {},
   "outputs": [],
   "source": [
    "# Node Class\n",
    "class Node ():\n",
    "    def __init__(self, parent = None, position = None):\n",
    "        self.parent = parent\n",
    "        self.position = position\n",
    "        \n",
    "        self.g = 0\n",
    "        self.h = 0\n",
    "        self.f = 0\n",
    "    \n",
    "    def __eq__(self, other):\n",
    "        return self.position == other.position"
   ]
  },
  {
   "cell_type": "code",
   "execution_count": 9,
   "metadata": {},
   "outputs": [],
   "source": [
    "# A Star Algorithm\n",
    "\n",
    "def astar(maze, start, end):\n",
    "    STEP_COST = 1\n",
    "    \n",
    "    start_node = Node(None, start)\n",
    "    start_node.g = start_node.f = start.node.h = 0\n",
    "    \n",
    "    end_node = Node(None, end)\n",
    "    end_node.g = end_node.h = end_node.f = 0\n",
    "    \n",
    "    open_list = []\n",
    "    closed_list = []\n",
    "    \n",
    "    open_list.append(start_node)\n",
    "    \n",
    "    # start the searching loop\n",
    "    while len(open_list) > 0:\n",
    "        # get the current node (with the least f score)\n",
    "        current_node = open_list[0]\n",
    "        current_index = 0\n",
    "        \n",
    "        for index, node in enumerate(open_list):\n",
    "            if node.f < current_node.f:\n",
    "                current_node = node\n",
    "                current_index = index\n",
    "        \n",
    "        # pop the current node out of the open list and add to closed list\n",
    "        open_list.pop(current_index)\n",
    "        closed_list.append(current_node)\n",
    "        \n",
    "        # check if the current node is the goal\n",
    "        if current_node == end_node:\n",
    "            path = [] # contain the path from start to end node\n",
    "            \n",
    "            while current is not None:\n",
    "                path.append(current.position)\n",
    "                current = current.parent\n",
    "            \n",
    "            return path[::-1]\n",
    "        \n",
    "        # Generate neighbor nodes from current node\n",
    "        neighbors = []\n",
    "        \n",
    "        for new_poisition in [(0, 1),(0, -1),(1, 0),(-1, 0)]:\n",
    "            node_position = (current_node.position[0] + new_poisition[0], current_node.position[1] + new_poisition[1])\n",
    "            \n",
    "            # check if the new node is out of bound\n",
    "            if node_position[0] > (len(maze) - 1) or node_position[0] < 0 or node_position[1] > (len(maze[len(maze)-1]) -1) or node_position[1] < 0:\n",
    "                continue\n",
    "            \n",
    "            # Make sure walkable terrain\n",
    "            if maze[node_position[0]][node_position[1]] != 0:\n",
    "                continue\n",
    "\n",
    "            # Create new node\n",
    "            new_node = Node(current_node, node_position)\n",
    "\n",
    "            # Append\n",
    "            neighbors.append(new_node)\n",
    "\n",
    "        # Loop through children\n",
    "        for neighbor in neighbors:\n",
    "\n",
    "            # Create the f, g, and h values\n",
    "            neighbor.g = current_node.g + STEP_COST\n",
    "            neighbor.h = (((neighbor.position[0] - end_node.position[0]) ** 2) + ((neighbor.position[1] - end_node.position[1]) ** 2))**0.5 # qEdit\n",
    "            neighbor.f = neighbor.g + neighbor.h\n",
    "\n",
    "            # Update f(n)\n",
    "            for index, item in enumerate(open_list):\n",
    "                if neighbor.position == item.position and neighbor.f < item.f:\n",
    "                    open_list.pop(index) # Remove the node to replace with child later   \n",
    "                    \n",
    "                    # Add the child to the open list (update new child with new f(n))\n",
    "                    open_list.append(neighbor)"
   ]
  }
 ],
 "metadata": {
  "kernelspec": {
   "display_name": "Python 3",
   "language": "python",
   "name": "python3"
  },
  "language_info": {
   "codemirror_mode": {
    "name": "ipython",
    "version": 3
   },
   "file_extension": ".py",
   "mimetype": "text/x-python",
   "name": "python",
   "nbconvert_exporter": "python",
   "pygments_lexer": "ipython3",
   "version": "3.12.4"
  }
 },
 "nbformat": 4,
 "nbformat_minor": 2
}
